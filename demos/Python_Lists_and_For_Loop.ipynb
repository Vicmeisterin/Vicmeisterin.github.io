{
 "cells": [
  {
   "cell_type": "code",
   "execution_count": 27,
   "metadata": {
    "collapsed": false
   },
   "outputs": [
    {
     "name": "stdout",
     "output_type": "stream",
     "text": [
      "is 2\n",
      "index 1 in stringList = is\n",
      "index 1 in intList = 2\n"
     ]
    }
   ],
   "source": [
    "#Make string and int lists\n",
    "stringList=['this','is','a','string']\n",
    "intList=[1,2,3,4,5,4,3,2,1]\n",
    "\n",
    "num=1\n",
    "\n",
    "#print stringList[num], intList[num]\n",
    "print 'index',num,'in stringList =',stringList[num]\n",
    "print 'index',num,'in intList =',intList[num]\n",
    "\n"
   ]
  },
  {
   "cell_type": "code",
   "execution_count": 25,
   "metadata": {
    "collapsed": false
   },
   "outputs": [
    {
     "name": "stdout",
     "output_type": "stream",
     "text": [
      "[1, 'a', 2, 'a', 3, 'a', 4, 'a']\n"
     ]
    }
   ],
   "source": [
    "array= []\n",
    "for r in range(1,5):\n",
    "    array.append(r)\n",
    "    array.append(stringList[2])\n",
    "\n",
    "print array"
   ]
  },
  {
   "cell_type": "code",
   "execution_count": null,
   "metadata": {
    "collapsed": false
   },
   "outputs": [],
   "source": [
    "\n"
   ]
  }
 ],
 "metadata": {
  "anaconda-cloud": {},
  "kernelspec": {
   "display_name": "Python [Root]",
   "language": "python",
   "name": "Python [Root]"
  },
  "language_info": {
   "codemirror_mode": {
    "name": "ipython",
    "version": 2
   },
   "file_extension": ".py",
   "mimetype": "text/x-python",
   "name": "python",
   "nbconvert_exporter": "python",
   "pygments_lexer": "ipython2",
   "version": "2.7.12"
  }
 },
 "nbformat": 4,
 "nbformat_minor": 0
}

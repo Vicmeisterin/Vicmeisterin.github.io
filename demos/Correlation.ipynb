{
 "cells": [
  {
   "cell_type": "code",
   "execution_count": 2,
   "metadata": {
    "collapsed": false
   },
   "outputs": [
    {
     "name": "stderr",
     "output_type": "stream",
     "text": [
      "//anaconda/lib/python2.7/site-packages/matplotlib/font_manager.py:273: UserWarning: Matplotlib is building the font cache using fc-list. This may take a moment.\n",
      "  warnings.warn('Matplotlib is building the font cache using fc-list. This may take a moment.')\n"
     ]
    },
    {
     "name": "stdout",
     "output_type": "stream",
     "text": [
      "size of audio 1 is 32563\n",
      "size of audio 2 is 1426297\n",
      "(32563,) (1426297,)\n",
      "(1426297,)\n",
      "(32563,) (1393734,)\n",
      "1426297\n",
      "1426297\n"
     ]
    }
   ],
   "source": [
    "# set up the environment\n",
    "import numpy as np\n",
    "\n",
    "%matplotlib inline\n",
    "import matplotlib.pyplot as plt\n",
    "import scipy as sp\n",
    "from scipy.io.wavfile import read # allows us to read in wave files\n",
    "from scipy import signal # get access to fftconvolve function\n",
    "\n",
    "\n",
    "audio1 = read(\"vicdata.wav\") \n",
    "audio2 = read(\"cave1.wav\")\n",
    "\n",
    "SR1 = audio1[0]\n",
    "SR2= audio2[1]\n",
    "\n",
    "# # calculuate the sample period\n",
    "T1 = 1.0/SR1;\n",
    "# # extract the audio sample values\n",
    "\n",
    "wave1 = np.array(audio1[1],dtype=float)\n",
    "wave2 = np.array(audio2[1],dtype=float)\n",
    "wave2 = wave2[:,1]\n",
    "\n",
    "print'size of audio 1 is', len(wave1)\n",
    "print 'size of audio 2 is', len(wave2)\n",
    "\n",
    "wave1size= len(wave1)\n",
    "wave2size = len(wave2)\n",
    "\n",
    "lenZeros1=np.abs(wave1size-wave2size)\n",
    "lenZeros2=np.abs(wave2size-wave1size)\n",
    "\n",
    "zeros2=np.zeros([lenZeros2])\n",
    "zeros1=np.zeros([lenZeros1])\n",
    "\n",
    "# wave1 = wave1[:,np.newaxis]\n",
    "# wave2 = wave2[:,np.newaxis]\n",
    "\n",
    "print wave1.shape, wave2.shape\n",
    "\n",
    "if wave1size > wave2size:\n",
    "    wave2 = np.concatenate(wave2.T,zeros2)\n",
    "\n",
    "print wave2.shape\n",
    "    \n",
    "if wave2size > wave1size:\n",
    "    \n",
    "    print wave1.shape, zeros1.shape\n",
    "    wave1 = np.concatenate([wave1,zeros1])\n",
    "    \n",
    "print len(wave2)\n",
    "print len(wave1)\n",
    "\n",
    "\n",
    "\n",
    "\n"
   ]
  },
  {
   "cell_type": "code",
   "execution_count": 10,
   "metadata": {
    "collapsed": false
   },
   "outputs": [
    {
     "name": "stdout",
     "output_type": "stream",
     "text": [
      "correlation coefficient=  [ 27545.32291158]\n",
      "Doesn't mean much on its own but, if the number is higher, then the two correlated wav files are more similar\n"
     ]
    }
   ],
   "source": [
    "# print np.array([1, 2, 3, 4]).shape\n",
    "#print np.correlate(wave1[1:100],wave2[1:100])\n",
    "correlatedSound = np.correlate(wave1,wave2)\n",
    "print 'correlation coefficient= ', correlatedSound\n",
    "print \"Doesn't mean much on its own but, if the number is higher, then the two correlated wav files are more similar\"\n",
    "\n",
    "\n",
    "\n",
    "\n",
    "\n",
    "\n",
    "\n",
    "\n",
    "\n"
   ]
  },
  {
   "cell_type": "code",
   "execution_count": null,
   "metadata": {
    "collapsed": true
   },
   "outputs": [],
   "source": []
  }
 ],
 "metadata": {
  "anaconda-cloud": {},
  "kernelspec": {
   "display_name": "Python [Root]",
   "language": "python",
   "name": "Python [Root]"
  },
  "language_info": {
   "codemirror_mode": {
    "name": "ipython",
    "version": 2
   },
   "file_extension": ".py",
   "mimetype": "text/x-python",
   "name": "python",
   "nbconvert_exporter": "python",
   "pygments_lexer": "ipython2",
   "version": "2.7.12"
  }
 },
 "nbformat": 4,
 "nbformat_minor": 0
}

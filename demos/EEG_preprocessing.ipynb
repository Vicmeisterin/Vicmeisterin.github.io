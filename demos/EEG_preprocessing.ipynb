{
 "cells": [
  {
   "cell_type": "code",
   "execution_count": 74,
   "metadata": {
    "collapsed": true
   },
   "outputs": [],
   "source": [
    "############ READ BEFORE PROCEEDING ##############\n",
    "\n",
    "# This file and the file you want to convert should be IN THE EXACT SAME FOLDER\n",
    "\n",
    "# This python program will convert your EEG files into the format that you need them\n",
    "# in order to carry out a DFT or an ERP analysis.\n",
    "#\n",
    "# Go below to the 'TO DO:' box, and change the name of the input file (the file you want to convert)\n",
    "# and the name of the output file that you want the file to be saved to.\n",
    "#\n",
    "# -Irán"
   ]
  },
  {
   "cell_type": "code",
   "execution_count": 75,
   "metadata": {
    "collapsed": true
   },
   "outputs": [],
   "source": [
    "import numpy as np\n",
    "\n",
    "%matplotlib inline\n",
    "\n",
    "import matplotlib.pyplot as plt"
   ]
  },
  {
   "cell_type": "code",
   "execution_count": 76,
   "metadata": {
    "collapsed": true
   },
   "outputs": [],
   "source": [
    "# TO DO: change here the name of your file to match the one you want to convert\n",
    "# The file should be in the same folder as this jupyter notebook\n",
    "input_filename = \"shane.txt\"\n",
    "out_name = \"shane_eeg\""
   ]
  },
  {
   "cell_type": "code",
   "execution_count": 77,
   "metadata": {
    "collapsed": false
   },
   "outputs": [],
   "source": [
    "text_file = open(input_filename, \"r\")\n",
    "lines = np.asarray(text_file.read().split('\\n'))\n",
    "\n",
    "data = np.zeros(len(lines))\n",
    "\n",
    "for line in range(len(lines)-1):\n",
    "    broken_line = lines[line].split()\n",
    "    data[line] = broken_line[6]  "
   ]
  },
  {
   "cell_type": "code",
   "execution_count": 78,
   "metadata": {
    "collapsed": true
   },
   "outputs": [],
   "source": [
    "data.T.tofile(out_name,sep=',',format='%10.5f')"
   ]
  },
  {
   "cell_type": "code",
   "execution_count": null,
   "metadata": {
    "collapsed": true
   },
   "outputs": [],
   "source": []
  }
 ],
 "metadata": {
  "kernelspec": {
   "display_name": "Python 2",
   "language": "python",
   "name": "python2"
  },
  "language_info": {
   "codemirror_mode": {
    "name": "ipython",
    "version": 2
   },
   "file_extension": ".py",
   "mimetype": "text/x-python",
   "name": "python",
   "nbconvert_exporter": "python",
   "pygments_lexer": "ipython2",
   "version": "2.7.11"
  }
 },
 "nbformat": 4,
 "nbformat_minor": 0
}
